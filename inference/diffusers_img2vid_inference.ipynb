{
 "cells": [
  {
   "cell_type": "code",
   "execution_count": 1,
   "id": "59eb1828-05ca-41ed-9d50-7a6d2c2f110b",
   "metadata": {},
   "outputs": [],
   "source": [
    "import os\n",
    "os.environ['CUDA_VISIBLE_DEVICES'] = '0'\n",
    "import sys\n",
    "sys.path.append('..')\n",
    "\n",
    "import torch\n",
    "from PIL import Image\n",
    "from transformers import T5EncoderModel, T5Tokenizer\n",
    "from diffusers import CogVideoXDDIMScheduler, CogVideoXDPMScheduler, AutoencoderKLCogVideoX, CogVideoXTransformer3DModel\n",
    "from diffusers.utils import export_to_video\n",
    "\n",
    "from img2vid_pipeline import CogVideoXImg2VidPipeline\n",
    "\n",
    "%load_ext autoreload\n",
    "%autoreload 2"
   ]
  },
  {
   "cell_type": "code",
   "execution_count": 2,
   "id": "0c691293-02c1-4b2d-8390-8f58ae0e8871",
   "metadata": {},
   "outputs": [
    {
     "data": {
      "application/vnd.jupyter.widget-view+json": {
       "model_id": "46694294dcc046e397111bdb9d000e6c",
       "version_major": 2,
       "version_minor": 0
      },
      "text/plain": [
       "Loading checkpoint shards:   0%|          | 0/2 [00:00<?, ?it/s]"
      ]
     },
     "metadata": {},
     "output_type": "display_data"
    }
   ],
   "source": [
    "pretrained_model_name_or_path = \"NimVideo/cogvideox-2b-img2vid\"\n",
    "\n",
    "tokenizer = T5Tokenizer.from_pretrained(\n",
    "    pretrained_model_name_or_path, subfolder=\"tokenizer\"\n",
    ")\n",
    "\n",
    "text_encoder = T5EncoderModel.from_pretrained(\n",
    "    pretrained_model_name_or_path, subfolder=\"text_encoder\"\n",
    ")\n",
    "\n",
    "transformer = CogVideoXTransformer3DModel.from_pretrained(\n",
    "    pretrained_model_name_or_path, subfolder=\"transformer\"\n",
    ")\n",
    "\n",
    "vae = AutoencoderKLCogVideoX.from_pretrained(\n",
    "    pretrained_model_name_or_path, subfolder=\"vae\"\n",
    ")\n",
    "\n",
    "scheduler = CogVideoXDDIMScheduler.from_pretrained(\n",
    "    pretrained_model_name_or_path, subfolder=\"scheduler\"\n",
    ")"
   ]
  },
  {
   "cell_type": "code",
   "execution_count": 3,
   "id": "576781aa-8afe-4945-9c3e-87e5537d22b6",
   "metadata": {},
   "outputs": [],
   "source": [
    "pipe = CogVideoXImg2VidPipeline(\n",
    "    transformer=transformer,\n",
    "    tokenizer=tokenizer,\n",
    "    text_encoder=text_encoder,\n",
    "    vae=vae,\n",
    "    scheduler=scheduler,\n",
    ")\n",
    "\n",
    "pipe = pipe.to(dtype=torch.float16, device='cuda')\n",
    "\n",
    "pipe.enable_model_cpu_offload()\n",
    "pipe.enable_sequential_cpu_offload()\n",
    "# pipe.vae.enable_slicing()\n",
    "# pipe.vae.enable_tiling()"
   ]
  },
  {
   "cell_type": "code",
   "execution_count": 4,
   "id": "fa6ed52c-f29f-4fb3-b284-21127585def8",
   "metadata": {},
   "outputs": [],
   "source": [
    "images_info = [\n",
    "    {\n",
    "        'image_path': '../resources/truck.jpg',\n",
    "        'text': 'A truck is driving through a dirt road, showcasing its capability for off-roading. The scene captures the vehicle in an outdoor setting, surrounded by rugged terrain and open skies. This image highlights various aspects of the truck, including its tires and automotive features.',\n",
    "    },\n",
    "    {\n",
    "        'image_path': '../resources/owl.jpg',\n",
    "        'text': 'The image features an owl soaring gracefully in the sky. It captures the essence of wildlife, showcasing the majestic beauty of this bird of prey, specifically highlighting owls like the barn owl and screech owl in an outdoor setting. The scene emphasizes the connection between nature and these fascinating creatures.',\n",
    "    },\n",
    "]"
   ]
  },
  {
   "cell_type": "code",
   "execution_count": 7,
   "id": "29fee63f-d349-457e-a636-80b4083fb410",
   "metadata": {
    "scrolled": true
   },
   "outputs": [
    {
     "data": {
      "application/vnd.jupyter.widget-view+json": {
       "model_id": "def19f2c2b6a47ba8c67c57839254f0e",
       "version_major": 2,
       "version_minor": 0
      },
      "text/plain": [
       "  0%|          | 0/50 [00:00<?, ?it/s]"
      ]
     },
     "metadata": {},
     "output_type": "display_data"
    },
    {
     "data": {
      "application/vnd.jupyter.widget-view+json": {
       "model_id": "86663fe1a12c43d9a66bd9993acd4e5b",
       "version_major": 2,
       "version_minor": 0
      },
      "text/plain": [
       "  0%|          | 0/50 [00:00<?, ?it/s]"
      ]
     },
     "metadata": {},
     "output_type": "display_data"
    }
   ],
   "source": [
    "for image_info in images_info:\n",
    "    prompt = image_info['text']\n",
    "    image = Image.open(image_info['image_path']).convert(\"RGB\")\n",
    "    video = pipe(\n",
    "        image=image,\n",
    "        prompt=prompt,\n",
    "        num_videos_per_prompt=1, \n",
    "        num_inference_steps=50, \n",
    "        num_frames=49,  \n",
    "        use_dynamic_cfg=False, \n",
    "        guidance_scale=6.0, \n",
    "        generator=torch.Generator().manual_seed(42),  \n",
    "    ).frames[0]\n",
    "\n",
    "    file_name = os.path.basename(image_info['image_path']).replace('.png', '.mp4').replace('.jpg', '.mp4').replace('.jpeg', '.mp4')\n",
    "    export_to_video(video, file_name, fps=8)"
   ]
  },
  {
   "cell_type": "code",
   "execution_count": null,
   "id": "c79aa07f-7ec2-4bae-a651-c9586828ee50",
   "metadata": {},
   "outputs": [],
   "source": []
  },
  {
   "cell_type": "code",
   "execution_count": null,
   "id": "eacf6c4c",
   "metadata": {},
   "outputs": [],
   "source": []
  },
  {
   "cell_type": "code",
   "execution_count": null,
   "id": "d89dcd61",
   "metadata": {},
   "outputs": [],
   "source": []
  },
  {
   "cell_type": "code",
   "execution_count": null,
   "id": "3a90a6aa-0bf2-46fe-816f-4d8d739b5b32",
   "metadata": {},
   "outputs": [],
   "source": []
  }
 ],
 "metadata": {
  "kernelspec": {
   "display_name": "venv",
   "language": "python",
   "name": "venv"
  },
  "language_info": {
   "codemirror_mode": {
    "name": "ipython",
    "version": 3
   },
   "file_extension": ".py",
   "mimetype": "text/x-python",
   "name": "python",
   "nbconvert_exporter": "python",
   "pygments_lexer": "ipython3",
   "version": "3.10.12"
  }
 },
 "nbformat": 4,
 "nbformat_minor": 5
}
